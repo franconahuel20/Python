{
  "nbformat": 4,
  "nbformat_minor": 0,
  "metadata": {
    "colab": {
      "name": "Github TP0 - Python.ipynb",
      "provenance": [],
      "collapsed_sections": []
    },
    "kernelspec": {
      "name": "python3",
      "display_name": "Python 3"
    }
  },
  "cells": [
    {
      "cell_type": "markdown",
      "metadata": {
        "id": "dJXaqszspIRI"
      },
      "source": [
        "Algoritmos Genéticos y Optimización Heurística - UTN-FRT\n",
        "# **Trabajo Práctico Introductorio** \n",
        "##**Tema**: Programación en lenguaje Python##"
      ]
    },
    {
      "cell_type": "markdown",
      "metadata": {
        "id": "J0FsXHH3o8Dy"
      },
      "source": [
        "Integrantes:\n",
        "\n",
        "\n",
        "Herrera, Franco Nahuel\n",
        "\n"
      ]
    },
    {
      "cell_type": "markdown",
      "metadata": {
        "id": "S8eNgcolvsEy"
      },
      "source": [
        "## Ejercicio 1\n",
        "Los siguientes fragmentos de código ejemplifican diferentes operaciones que serán muy utilizadas en los trabajos prácticos del curso. Recomendamos compranderlas y saberlas aplicar para poder completar los trabajos."
      ]
    },
    {
      "cell_type": "markdown",
      "metadata": {
        "id": "zSO9oviJu0DT"
      },
      "source": [
        "####**Tarea**: iterar elementos de un vector:"
      ]
    },
    {
      "cell_type": "code",
      "metadata": {
        "id": "g2iMvNIxt0LE",
        "colab": {
          "base_uri": "https://localhost:8080/"
        },
        "outputId": "5f80f0ab-0057-49b5-fec9-7bb9eea0f755"
      },
      "source": [
        "print('Iterar elementos de un vector')\n",
        "x = [2,4,1,3]\n",
        "for i in x:\n",
        "    print(i)\n",
        "\n",
        "print('Iterar una cantidad de veces')\n",
        "n = 4\n",
        "for i in range(n):\n",
        "    print(i)\n",
        "\n",
        "print('Iterar enumerando elementos de un vector')\n",
        "x = [3,1,2,4]\n",
        "for i, v in enumerate(x):\n",
        "    print(\"{0}: {1}\".format(i,v))"
      ],
      "execution_count": null,
      "outputs": [
        {
          "output_type": "stream",
          "name": "stdout",
          "text": [
            "Iterar elementos de un vector\n",
            "2\n",
            "4\n",
            "1\n",
            "3\n",
            "Iterar una cantidad de veces\n",
            "0\n",
            "1\n",
            "2\n",
            "3\n",
            "Iterar enumerando elementos de un vector\n",
            "0: 3\n",
            "1: 1\n",
            "2: 2\n",
            "3: 4\n"
          ]
        }
      ]
    },
    {
      "cell_type": "markdown",
      "metadata": {
        "id": "DGJDQrnAw2lb"
      },
      "source": [
        "####**Tarea**: obtener elementos de un vector."
      ]
    },
    {
      "cell_type": "code",
      "metadata": {
        "id": "EQMzizPYw2N6",
        "colab": {
          "base_uri": "https://localhost:8080/"
        },
        "outputId": "dcd746d5-c997-471e-8f56-59ada853b170"
      },
      "source": [
        "x = [5, 6, 9, 7, 8, 4, 3, 1]\n",
        "print(x)\n",
        "\n",
        "print(\"Primer elemento: {0}\".format( x[0] ))\n",
        "print(\"Último elemento: {0}\".format( x[-1] ))\n",
        "print(\"Ante-último elemento: {0}\".format( x[-2] ))\n",
        "print(\"Tamaño del vector: {0}\".format( len(x) ))\n",
        "print(\"Elementos desde la segunda posición: {0}\".format( x[1:] ))\n",
        "print(\"Elementos hasta la quinta posición: {0}\".format( x[:5] ))\n",
        "print(\"Primera mitad del vector: {0}\".format( x[:round(len(x)/2)] ))\n",
        "print(\"Elementos pares: {0}\".format( x[::2] ))\n",
        "print(\"Elementos cada 3 posiciones: {0}\".format( x[::3] ))"
      ],
      "execution_count": null,
      "outputs": [
        {
          "output_type": "stream",
          "name": "stdout",
          "text": [
            "[5, 6, 9, 7, 8, 4, 3, 1]\n",
            "Primer elemento: 5\n",
            "Último elemento: 1\n",
            "Ante-último elemento: 3\n",
            "Tamaño del vector: 8\n",
            "Elementos desde la segunda posición: [6, 9, 7, 8, 4, 3, 1]\n",
            "Elementos hasta la quinta posición: [5, 6, 9, 7, 8]\n",
            "Primera mitad del vector: [5, 6, 9, 7]\n",
            "Elementos pares: [5, 9, 8, 3]\n",
            "Elementos cada 3 posiciones: [5, 7, 3]\n"
          ]
        }
      ]
    },
    {
      "cell_type": "markdown",
      "metadata": {
        "id": "SSJGZFlsxW-Q"
      },
      "source": [
        "####**Tarea**: realizar operaciones matemáticas sobre vectores."
      ]
    },
    {
      "cell_type": "code",
      "metadata": {
        "id": "hGdtpmsoxWlo",
        "colab": {
          "base_uri": "https://localhost:8080/"
        },
        "outputId": "a125eb96-c330-48db-b67b-8e059788dd69"
      },
      "source": [
        "import math\n",
        "\n",
        "x = [3, 4, 2.1, 1.9]\n",
        "print(x)\n",
        "\n",
        "s = sum(x)\n",
        "print(\"Suma de elementos: {0}\".format(s))\n",
        "\n",
        "min_x = min(x)\n",
        "max_x = max(x)\n",
        "print(\"Mínimo y máximo del vector: {0}, {1}\".format(min_x, max_x))\n",
        "\n",
        "norma = math.sqrt(sum([e**2 for e in x]))\n",
        "print(\"Norma del vector: {0}\".format(norma))"
      ],
      "execution_count": null,
      "outputs": [
        {
          "output_type": "stream",
          "name": "stdout",
          "text": [
            "[3, 4, 2.1, 1.9]\n",
            "Suma de elementos: 11.0\n",
            "Mínimo y máximo del vector: 1.9, 4\n",
            "Norma del vector: 5.746303159423457\n"
          ]
        }
      ]
    },
    {
      "cell_type": "markdown",
      "metadata": {
        "id": "BnIy-_FQqoxr"
      },
      "source": [
        "####**Tarea**: generar valores aleatorios dentro de un rango predefinido."
      ]
    },
    {
      "cell_type": "code",
      "metadata": {
        "id": "l3mRhmhHnJtB",
        "colab": {
          "base_uri": "https://localhost:8080/"
        },
        "outputId": "0067e4c9-6b24-451c-9ab5-7964e6aba786"
      },
      "source": [
        "import random\n",
        "\n",
        "#generar un valor aleatorio entre 0 y 1\n",
        "s = random.random()\n",
        "print('Valor entre 0 y 1: {0}'.format(s))\n",
        "\n",
        "#transladar el valor al rango -1 y 1\n",
        "x = s * 2 - 1\n",
        "print('Valor entre -1 y 1: {0}'.format(x))\n",
        "\n",
        "#transladar el valor al rango a y b\n",
        "a = -1; b = 5\n",
        "x = s*(b-a) + a\n",
        "print('Valor entre a={0} y b={1}: {2}'.format(a,b,x))"
      ],
      "execution_count": null,
      "outputs": [
        {
          "output_type": "stream",
          "name": "stdout",
          "text": [
            "Valor entre 0 y 1: 0.9097158497223666\n",
            "Valor entre -1 y 1: 0.8194316994447333\n",
            "Valor entre a=-1 y b=5: 4.4582950983342\n"
          ]
        }
      ]
    },
    {
      "cell_type": "markdown",
      "metadata": {
        "id": "wINVjwc0nSiQ"
      },
      "source": [
        "####**Tarea**: generar un vector con n elementos generados al azar."
      ]
    },
    {
      "cell_type": "code",
      "metadata": {
        "id": "ePa6H2OYnRdo",
        "colab": {
          "base_uri": "https://localhost:8080/"
        },
        "outputId": "f1c25085-bdff-4953-da0a-5e0b9b91f51b"
      },
      "source": [
        "import random\n",
        "\n",
        "def aleatorio_1(n):\n",
        "    \"\"\"Método 1: dinámico usando bucle for\n",
        "    \"\"\"\n",
        "    v = []\n",
        "    for i in range(n):\n",
        "      v.append(random.random())\n",
        "    return v\n",
        "\n",
        "def aleatorio_2(n):\n",
        "    \"\"\"Método 2:  inicializando e iterando\n",
        "    \"\"\"\n",
        "    v = [0]*n\n",
        "    for i in range(len(v)):\n",
        "      v[i] = random.random()\n",
        "    return v\n",
        "\n",
        "def aleatorio_3(n):\n",
        "    \"\"\"Método 2: list comprehensions\n",
        "    \"\"\"\n",
        "    return [random.random() for i in range(n)]\n",
        "\n",
        "n = 6\n",
        "print('Método 1 (con for dinámico)')\n",
        "print(aleatorio_1(n))\n",
        "print('Método 2 (con inicializacion)')\n",
        "print(aleatorio_2(n))\n",
        "print('Método 3 (list comprehensions)')\n",
        "print(aleatorio_3(n))"
      ],
      "execution_count": null,
      "outputs": [
        {
          "output_type": "stream",
          "name": "stdout",
          "text": [
            "Método 1 (con for dinámico)\n",
            "[0.8645642988567785, 0.6683834102450849, 0.10100223353307525, 0.16250863251065162, 0.2487844199604995, 0.4159436254033446]\n",
            "Método 2 (con inicializacion)\n",
            "[0.1251949330028197, 0.7892256106128073, 0.6750927311045055, 0.48576626125687317, 0.944332371238605, 0.06933609602519775]\n",
            "Método 3 (list comprehensions)\n",
            "[0.08770367960789993, 0.1988490335479982, 0.6324998660848243, 0.638317800378844, 0.8136484856816246, 0.8515680143052494]\n"
          ]
        }
      ]
    },
    {
      "cell_type": "markdown",
      "metadata": {
        "id": "1DqLYzt-r51W"
      },
      "source": [
        "####**Tarea**: generar n puntos al azar (vectores de 2 coordenadas) y graficarlos en el plano."
      ]
    },
    {
      "cell_type": "code",
      "metadata": {
        "id": "Nt9hTkB1sKyc",
        "colab": {
          "base_uri": "https://localhost:8080/",
          "height": 280
        },
        "outputId": "e5701b2c-045e-4ca8-ed1e-b6a7367e6c2b"
      },
      "source": [
        "import matplotlib.pyplot as plt\n",
        "\n",
        "n = 10\n",
        "\n",
        "fig = plt.figure()\n",
        "ax = plt.gca()\n",
        "\n",
        "x = [random.random() for i in range(n)]\n",
        "y = [random.random() for i in range(n)]\n",
        "\n",
        "ax.scatter(x, y, c='k', marker='o')\n",
        "\n",
        "#dar formato al grafico\n",
        "ax.set_xlabel('x')\n",
        "ax.set_ylabel('y')\n",
        "plt.grid()"
      ],
      "execution_count": null,
      "outputs": [
        {
          "output_type": "display_data",
          "data": {
            "image/png": "[encoded data removed]",
            "text/plain": [
              "<Figure size 432x288 with 1 Axes>"
            ]
          },
          "metadata": {
            "needs_background": "light"
          }
        }
      ]
    },
    {
      "cell_type": "markdown",
      "metadata": {
        "id": "PaU2zgwB0474"
      },
      "source": [
        "####**Tarea**: definir una función que tome un vector como entrada, y devuelva un valor real como salida."
      ]
    },
    {
      "cell_type": "code",
      "metadata": {
        "id": "Ku6EcpZ805wA",
        "colab": {
          "base_uri": "https://localhost:8080/"
        },
        "outputId": "a10fedb8-ff07-48b6-8fe2-4b662b5c62f0"
      },
      "source": [
        "def funcion(x_vector):\n",
        "    \"\"\"Devuelve el valor de la función f(x1,x2,...,xn) = x1^2 + x2^2 + ... + xn^2 \n",
        "    \"\"\"\n",
        "    return sum([x**2 for x in x_vector])\n",
        "\n",
        "x = [5, ]\n",
        "print(\"f({0}) = {1}\".format(x,funcion(x)))\n",
        "\n",
        "x = [3, 2]\n",
        "print(\"f({0}) = {1}\".format(x,funcion(x)))\n",
        "\n",
        "x = [2, 1, -1]\n",
        "print(\"f({0}) = {1}\".format(x,funcion(x)))"
      ],
      "execution_count": null,
      "outputs": [
        {
          "output_type": "stream",
          "name": "stdout",
          "text": [
            "f([5]) = 25\n",
            "f([3, 2]) = 13\n",
            "f([2, 1, -1]) = 6\n"
          ]
        }
      ]
    },
    {
      "cell_type": "markdown",
      "metadata": {
        "id": "DMEE4YuztBbd"
      },
      "source": [
        "## Ejercicio 2\n",
        "Resolver los siguientes ejercicios de programación.\n",
        "\n",
        "1.    Implementar un programa que iterativamente genere numeros aleatorios enteros dentro del intervalo [0, 20] y que termine la ejecución al obtener un 0. Debe imprimir en pantalla la cantidad de iteraciones realizadas al terminar la ejecución."
      ]
    },
    {
      "cell_type": "code",
      "metadata": {
        "id": "02ezZ29Ht2M0",
        "colab": {
          "base_uri": "https://localhost:8080/"
        },
        "outputId": "83d559fa-c8c0-424d-9521-b5632cf0fd12"
      },
      "source": [
        "import random\n",
        "x = []\n",
        "iter = 0\n",
        "xi = random.randint(0,20)\n",
        "while xi!=0:\n",
        "  xi = random.randint(0,20)\n",
        "  x.append(xi)\n",
        "  iter += 1\n",
        "print(\"Vector Generado:\",x)\n",
        "print(\"Iteraciones:{0}\".format(iter))"
      ],
      "execution_count": null,
      "outputs": [
        {
          "output_type": "stream",
          "name": "stdout",
          "text": [
            "Vector Generado: [9, 5, 2, 4, 2, 2, 2, 5, 3, 10, 13, 2, 12, 11, 17, 9, 11, 0]\n",
            "Iteraciones:18\n"
          ]
        }
      ]
    },
    {
      "cell_type": "markdown",
      "source": [
        "2.    Generar un vector con n elementos binarios (valor 0 o 1 generado al azar). Luego contar cuantos ceros hay en la primera mitad del vector (posición 0 a n/2) y cuantos unos hay en la segunda mitad del vector. Probar con n = 10 y n = 13."
      ],
      "metadata": {
        "id": "H0Ob_Uml93HR"
      }
    },
    {
      "cell_type": "code",
      "source": [
        "def generarVector(n):\n",
        "  v = [random.randint(0,1) for i in range(n)]\n",
        "  return v\n",
        "\n",
        "def contarCeros(v):\n",
        "  centro = len(v)//2\n",
        "  ceros = 0\n",
        "  for i in range(0,centro):\n",
        "    if v[i]==0:\n",
        "      ceros += 1\n",
        "  return ceros\n",
        "\n",
        "def contarUnos(v):\n",
        "  centro = len(v)//2\n",
        "  unos = 0\n",
        "  for i in range(centro,len(v)):\n",
        "    if v[i]==1:\n",
        "      unos += 1\n",
        "  return unos\n",
        "\n",
        "### n=10\n",
        "v = generarVector(10)\n",
        "ceros = contarCeros(v)\n",
        "unos = contarUnos(v)\n",
        "print(\"Vector Generado:\",v)\n",
        "print(\"Ceros:{0} Unos:{1}\".format(ceros,unos))\n",
        "\n",
        "print(\"\\n\")\n",
        "\n",
        "### n=13\n",
        "x = generarVector(13)\n",
        "ceros = contarCeros(x)\n",
        "unos = contarUnos(x)\n",
        "print(\"Vector Generado:\",x)\n",
        "print(\"Ceros:{0} Unos:{1}\".format(ceros,unos))"
      ],
      "metadata": {
        "colab": {
          "base_uri": "https://localhost:8080/"
        },
        "id": "evS-SQ3p97Bq",
        "outputId": "c49d0212-1fd0-43a7-998c-5cba532b5737"
      },
      "execution_count": null,
      "outputs": [
        {
          "output_type": "stream",
          "name": "stdout",
          "text": [
            "Vector Generado: [0, 0, 1, 0, 1, 1, 0, 1, 0, 0]\n",
            "Ceros:3 Unos:2\n",
            "\n",
            "\n",
            "Vector Generado: [0, 1, 1, 0, 0, 0, 0, 1, 0, 0, 0, 1, 1]\n",
            "Ceros:4 Unos:3\n"
          ]
        }
      ]
    }
  ]
}