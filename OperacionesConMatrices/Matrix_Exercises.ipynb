{
  "nbformat": 4,
  "nbformat_minor": 0,
  "metadata": {
    "colab": {
      "name": "Matrix Exercises DA 2021.ipynb",
      "provenance": [],
      "collapsed_sections": []
    },
    "kernelspec": {
      "name": "python3",
      "display_name": "Python 3"
    },
    "language_info": {
      "name": "python"
    }
  },
  "cells": [
    {
      "cell_type": "markdown",
      "metadata": {
        "id": "-Xp3HygtrBkm"
      },
      "source": [
        "# **Python Basics: Matrix Calculation** \n",
        "Create a class which allows to represent a matrix of any order or shape (n x n, n x m). It should also allow the following operations with matrices:\n",
        "* Matrices addition\n",
        "* Scalar multiplication\n",
        "* Matrices multiplication\n",
        "* Matrix transpose\n",
        "* Matrix determinant\n",
        "* Adjugate matrix\n",
        "* Inverted matrix\n",
        "#Add additional methods:\n",
        "* A method to obtain a matrix row. Do not return repeated rows. E.g., you can specify that the rows 1,3,8 are desired from a 20x10 matrix.\n",
        "* A method to obtain a matrix column. Do not return repeated columns. E.g., you can specify that the columns 2,4,10 are desired from a 20x10 matrix.\n",
        "* A method to obtain part of the matrix from a certain column. E.g., from a 10x10 matrix, the 10x2 matrix from column 5 is desired.\n",
        "* A method to show the matrix on screen as a matrix.\n",
        "#Exemples:\n",
        "A 3x6 matrix can be defined at the class instantiation time like this: Matrix([[1,2,3,4,5,6], [10,11,12,13,14,15], [-1,-2,-3,-4,-5,-6]])\n",
        "\n",
        "Do not use the numpy package for this implementation. Just use the Standard Library."
      ]
    },
    {
      "cell_type": "code",
      "metadata": {
        "id": "X1f0p_3hvZo5"
      },
      "source": [
        "class Matrix:\n",
        "  def __init__(self,matrix):\n",
        "    self.matrix = matrix\n",
        "\n",
        "  def get_row(self,index):\n",
        "    try:\n",
        "      return self.matrix[index][:]\n",
        "    except:\n",
        "      return \"Index is out of bounds!\"\n",
        "\n",
        "  def get_column(self,index):\n",
        "    try:\n",
        "      column = []\n",
        "      for row in self.matrix:\n",
        "        column.append(row[index])\n",
        "      return column\n",
        "    except:\n",
        "      return \"Index is out of bounds!\"\n",
        "  \n",
        "###\n",
        "###A method to obtain a matrix row. Do not return repeated rows. E.g., you can\n",
        "###specify that the rows 1,3,8 are desired from a 20x10 matrix.\n",
        "###\n",
        "  def get_unrepeated_rows(self,indexes):\n",
        "    unrepeated_indexes = list(set(indexes))\n",
        "    row = []\n",
        "    for i in range(len(unrepeated_indexes)):\n",
        "      r = self.get_row(unrepeated_indexes[i])\n",
        "      row.append(r)\n",
        "    return row\n",
        "\n",
        "\n",
        "###\n",
        "###A method to obtain a matrix column. Do not return repeated columns. E.g., you \n",
        "###can specify that the columns 2,4,10 are desired from a 20x10 matrix.\n",
        "###\n",
        "\n",
        "  def get_unrepeated_columns(self,indexes):\n",
        "    unrepeated_indexes = list(set(indexes))\n",
        "    columns = []\n",
        "    for i in range(len(unrepeated_indexes)):\n",
        "      columns.append(self.get_column(unrepeated_indexes[i]))\n",
        "    return columns\n",
        "\n",
        "  ###\n",
        "  ###A method to obtain part of the matrix from a certain column. E.g., \n",
        "  ###from a 10x10 matrix, the 10x2 matrix from column 5 is desired.\n",
        "  ###\n",
        "\n",
        "  def get_submatrix(self,indexes):\n",
        "    first = min(indexes)\n",
        "    second = max(indexes)\n",
        "    columns = []\n",
        "    for i in range(first,second+1):\n",
        "      columns.append(self.get_column(i))\n",
        "    submatrix = transpose(columns)\n",
        "    return submatrix\n",
        "\n",
        "  ###\n",
        "  ###A method to show the matrix on screen as a matrix.\n",
        "  ###\n",
        "\n",
        "  def print_matrix(self):\n",
        "    tam = len(self.matrix)\n",
        "    for i,e in enumerate(self.matrix):\n",
        "      print(i,e)\n",
        "    \n",
        "\n",
        "\n",
        "  def dot_product(a='',b=''):\n",
        "    try:\n",
        "      return sum([a_i * b_i for a_i,b_i in zip(a,b)])\n",
        "\n",
        "    except:\n",
        "      return \"Both vectors must be provided!\"\n",
        "  \n",
        "  def dot_sum(a='',b=''):\n",
        "    try:\n",
        "      return [a_i + b_i for a_i,b_i in zip(a,b)]\n",
        "\n",
        "    except:\n",
        "      return \"Both vectors must be provided!\"\n",
        "\n",
        "  def dot_scalar(scalar,a=''):\n",
        "    try:\n",
        "      return [scalar * a_i for a_i in a]\n",
        "\n",
        "    except:\n",
        "      return \"The vector and the scalar value must be provided!\"\n",
        "\n",
        "  \n",
        "  def is_multiplicable(a,b):\n",
        "\t  first,second = Matrix(a),Matrix(b)\n",
        "\t  for i in range(len(a)):\n",
        "\t\t  row,column = first.get_row(i),second.get_column(i)\n",
        "\t\t  if len(row)!=len(column):\n",
        "\t\t\t  return False\n",
        "\t\t  else:\n",
        "\t\t\t  return True\n",
        "\n",
        "  def is_additionable(a,b):\n",
        "\t  first,second = Matrix(a),Matrix(b)\n",
        "\t  for i in range(len(a)):\n",
        "\t\t  row_first,row_second = first.get_row(i),second.get_row(i)\n",
        "\t\t  if len(row_first)!=len(row_second):\n",
        "\t\t\t  return False\n",
        "\t\t  else:\n",
        "\t\t\t  return True"
      ],
      "execution_count": null,
      "outputs": []
    },
    {
      "cell_type": "markdown",
      "metadata": {
        "id": "xrc8Wz5ws0U6"
      },
      "source": [
        "#Matrices addition"
      ]
    },
    {
      "cell_type": "code",
      "metadata": {
        "id": "hDYLZiV9s5T1"
      },
      "source": [
        "def matrix_addition(A,B):\n",
        "\tif not Matrix.is_additionable(A,B):\n",
        "\t\treturn \"Matrix shapes are inconsistent\"\n",
        "\trow_count_a , row_count_b = len(A),len(B)\n",
        "\tfirst,second = Matrix(A),Matrix(B)\n",
        "\tresult = []\n",
        "\tfor i in range(row_count_a):\n",
        "\t  row_a,row_b = first.get_row(i),second.get_row(i)\n",
        "\t  result.append(Matrix.dot_sum(row_a,row_b))\n",
        "\treturn result\n"
      ],
      "execution_count": null,
      "outputs": []
    },
    {
      "cell_type": "markdown",
      "metadata": {
        "id": "ZRUobMFFtAmx"
      },
      "source": [
        "#Scalar multiplication"
      ]
    },
    {
      "cell_type": "code",
      "metadata": {
        "id": "C4OD0TSUtFaz"
      },
      "source": [
        "def scalar_multiplication(scalar,A):\n",
        "  row_count = len(A)\n",
        "  matrix = Matrix(A)\n",
        "  result = []\n",
        "  row_result = []\n",
        "  for i in range(row_count):\n",
        "    row = matrix.get_row(i)\n",
        "    row_result.append(Matrix.dot_scalar(scalar,row))\n",
        "  result.append(row_result)\n",
        "\n",
        "  return result"
      ],
      "execution_count": null,
      "outputs": []
    },
    {
      "cell_type": "markdown",
      "metadata": {
        "id": "_40IQRZotLFx"
      },
      "source": [
        "#Matrices multiplication"
      ]
    },
    {
      "cell_type": "code",
      "metadata": {
        "id": "1WGysJUBtP1D"
      },
      "source": [
        "def matrix_multiplication(A,B):\n",
        "\tif not Matrix.is_multiplicable(A,B):\n",
        "\t\treturn \"Matrix shapes are inconsistent\"\n",
        "\trow_count , column_count = len(A),len(B[:][0])\n",
        "\tfirst,second = Matrix(A),Matrix(B)\n",
        "\tresult = []\n",
        "\tfor i in range(row_count):\n",
        "\t\trow_result = []\n",
        "\t\tfor j in range(column_count):\n",
        "\t\t\trow,column = first.get_row(i),second.get_column(j)\n",
        "\t\t\trow_result.append(Matrix.dot_product(row,column))\n",
        "\t\tresult.append(row_result)\n",
        "\treturn result"
      ],
      "execution_count": null,
      "outputs": []
    },
    {
      "cell_type": "markdown",
      "metadata": {
        "id": "-eg9kXB2tgj4"
      },
      "source": [
        "#Matrix transpose"
      ]
    },
    {
      "cell_type": "code",
      "metadata": {
        "id": "nWGo9qeStaGf"
      },
      "source": [
        "def transpose(A):\n",
        "  return Matrix(list(map(list,zip(*A))))"
      ],
      "execution_count": null,
      "outputs": []
    },
    {
      "cell_type": "markdown",
      "metadata": {
        "id": "gQfzj3lvtp7y"
      },
      "source": [
        "#Matrix determinant"
      ]
    },
    {
      "cell_type": "code",
      "metadata": {
        "id": "FPnfNuHztrsx"
      },
      "source": [
        "def determinant_recursive(A, total=0):\n",
        "    # Section 1: store indices in list for row referencing\n",
        "    indices = list(range(len(A)))\n",
        "     \n",
        "    # Section 2: when at 2x2 submatrices recursive calls end\n",
        "    if len(A) == 2 and len(A[0]) == 2:\n",
        "        val = A[0][0] * A[1][1] - A[1][0] * A[0][1]\n",
        "        return val\n",
        " \n",
        "    # Section 3: define submatrix for focus column and \n",
        "    #      call this function\n",
        "    for fc in indices: # A) for each focus column, ...\n",
        "        # find the submatrix ...\n",
        "        As = A.copy() # B) make a copy, and ...\n",
        "        As = As[1:] # ... C) remove the first row\n",
        "        height = len(As) # D) \n",
        " \n",
        "        for i in range(height): \n",
        "            # E) for each remaining row of submatrix ...\n",
        "            #     remove the focus column elements\n",
        "            As[i] = As[i][0:fc] + As[i][fc+1:] \n",
        " \n",
        "        sign = (-1) ** (fc % 2) # F) \n",
        "        # G) pass submatrix recursively\n",
        "        sub_det = determinant_recursive(As)\n",
        "        # H) total all returns from recursion\n",
        "        total = total +  sign * A[0][fc] * sub_det \n",
        " \n",
        "    return total"
      ],
      "execution_count": null,
      "outputs": []
    },
    {
      "cell_type": "markdown",
      "metadata": {
        "id": "mHOYNyIXt-tN"
      },
      "source": [
        "#Adjugate matrix"
      ]
    },
    {
      "cell_type": "code",
      "metadata": {
        "id": "XqNH2uVLuNxd"
      },
      "source": [
        "def transposeMatrix(m):\n",
        "    return map(list,zip(*m))\n",
        "\n",
        "def getMatrixMinor(m,i,j):\n",
        "    return [row[:j] + row[j+1:] for row in (m[:i]+m[i+1:])]\n",
        "\n",
        "def getMatrixDeternminant(m):\n",
        "    #base case for 2x2 matrix\n",
        "    if len(m) == 2:\n",
        "        return m[0][0]*m[1][1]-m[0][1]*m[1][0]\n",
        "\n",
        "    determinant = 0\n",
        "    for c in range(len(m)):\n",
        "        determinant += ((-1)**c)*m[0][c]*getMatrixDeternminant(getMatrixMinor(m,0,c))\n",
        "    return determinant\n",
        "\n",
        "def getMatrixInverse(m):\n",
        "    determinant = getMatrixDeternminant(m)\n",
        "    #special case for 2x2 matrix:\n",
        "    if len(m) == 2:\n",
        "        return [[m[1][1]/determinant, -1*m[0][1]/determinant],\n",
        "                [-1*m[1][0]/determinant, m[0][0]/determinant]]\n",
        "\n",
        "   #find adjugate matrix\n",
        "    adjugate = []\n",
        "    for r in range(len(m)):\n",
        "        cofactorRow = []\n",
        "        for c in range(len(m)):\n",
        "            minor = getMatrixMinor(m,r,c)\n",
        "            cofactorRow.append(((-1)**(r+c)) * getMatrixDeternminant(minor))\n",
        "        adjugate.append(cofactorRow)\n",
        "    adjugate = transposeMatrix(cofactors)\n",
        "\n",
        "    return adjugate"
      ],
      "execution_count": null,
      "outputs": []
    },
    {
      "cell_type": "markdown",
      "metadata": {
        "id": "Ez5Q5GrfuewC"
      },
      "source": [
        "#Inverse matrix"
      ]
    },
    {
      "cell_type": "code",
      "metadata": {
        "id": "QdcKr8DYuoNi"
      },
      "source": [
        "def eliminate(r1, r2, col, target=0):\n",
        "    fac = (r2[col]-target) / r1[col]\n",
        "    for i in range(len(r2)):\n",
        "        r2[i] -= fac * r1[i]\n",
        "\n",
        "def gauss(a):\n",
        "    for i in range(len(a)):\n",
        "        if a[i][i] == 0:\n",
        "            for j in range(i+1, len(a)):\n",
        "                if a[i][j] != 0:\n",
        "                    a[i], a[j] = a[j], a[i]\n",
        "                    break\n",
        "            else:\n",
        "                raise ValueError(\"Matrix is not invertible\")\n",
        "        for j in range(i+1, len(a)):\n",
        "            eliminate(a[i], a[j], i)\n",
        "    for i in range(len(a)-1, -1, -1):\n",
        "        for j in range(i-1, -1, -1):\n",
        "            eliminate(a[i], a[j], i)\n",
        "    for i in range(len(a)):\n",
        "        eliminate(a[i], a[i], i, target=1)\n",
        "    return a\n",
        "\n",
        "def inverse(a):\n",
        "    tmp = [[] for _ in a]\n",
        "    for i,row in enumerate(a):\n",
        "        assert len(row) == len(a)\n",
        "        tmp[i].extend(row + [0]*i + [1] + [0]*(len(a)-i-1))\n",
        "    gauss(tmp)\n",
        "    ret = []\n",
        "    for i in range(len(tmp)):\n",
        "        ret.append(tmp[i][len(tmp[i])//2:])\n",
        "    return ret"
      ],
      "execution_count": null,
      "outputs": []
    },
    {
      "cell_type": "markdown",
      "metadata": {
        "id": "rtf1w8V6zfAM"
      },
      "source": [
        "#A method to obtain a matrix row. Do not return repeated rows. E.g., you can specify that the rows 1,3,8 are desired from a 20x10 matrix."
      ]
    },
    {
      "cell_type": "code",
      "metadata": {
        "id": "TvaADJOWDmIR",
        "colab": {
          "base_uri": "https://localhost:8080/"
        },
        "outputId": "116093b2-c975-4299-f1ce-dd5e04379ddf"
      },
      "source": [
        "count_rows = int(input(\"Input the number of rows:\"))\n",
        "indexes = [int(input(\"index {0}:\".format(i))) for i in range(count_rows)]\n",
        "mtx = Matrix([[1,2,3],[4,5,6],[7,8,9]])\n",
        "C = mtx.get_unrepeated_rows(indexes)\n",
        "print(C)\n",
        " "
      ],
      "execution_count": null,
      "outputs": [
        {
          "output_type": "stream",
          "name": "stdout",
          "text": [
            "Input the number of rows:3\n",
            "index 0:0\n",
            "index 1:0\n",
            "index 2:2\n",
            "[[1, 2, 3], [7, 8, 9]]\n"
          ]
        }
      ]
    },
    {
      "cell_type": "markdown",
      "metadata": {
        "id": "6ATxXe8-zxy5"
      },
      "source": [
        "#A method to obtain a matrix column. Do not return repeated columns. E.g., you can specify that the columns 2,4,10 are desired from a 20x10 matrix."
      ]
    },
    {
      "cell_type": "code",
      "metadata": {
        "id": "Maoiiu_Yzzfj",
        "colab": {
          "base_uri": "https://localhost:8080/"
        },
        "outputId": "8546976b-9e5d-4d50-9509-5fe103f16236"
      },
      "source": [
        "##COMPLETE\n",
        "count_rows = int(input(\"Input the number of rows:\"))\n",
        "indexes = [int(input(\"index {0}:\".format(i))) for i in range(count_rows)]\n",
        "mtx = Matrix([[1,2,3],[4,5,6],[7,8,9]])\n",
        "C = mtx.get_unrepeated_columns(indexes)\n",
        "print(C)"
      ],
      "execution_count": null,
      "outputs": [
        {
          "output_type": "stream",
          "name": "stdout",
          "text": [
            "Input the number of rows:3\n",
            "index 0:0\n",
            "index 1:0\n",
            "index 2:2\n",
            "[[1, 4, 7], [3, 6, 9]]\n"
          ]
        }
      ]
    },
    {
      "cell_type": "markdown",
      "metadata": {
        "id": "Y0-jts7Jz5B4"
      },
      "source": [
        "#A method to obtain part of the matrix from a certain column. E.g., from a 10x10 matrix, the 10x2 matrix from column 5 is desired."
      ]
    },
    {
      "cell_type": "code",
      "metadata": {
        "id": "3GUhkIigz6q3",
        "colab": {
          "base_uri": "https://localhost:8080/"
        },
        "outputId": "efac4079-aa1d-48a0-a78d-37a3e72fdf43"
      },
      "source": [
        "##COMPLETE\n",
        "A = [[1,2,3,4,5],[6,7,8,9,10],[11,12,13,14,15]]\n",
        "mtx = transpose(A)\n",
        "\n",
        "for i in range(len(A)):\n",
        "  print(mtx.get_row(i))\n",
        "\n"
      ],
      "execution_count": null,
      "outputs": [
        {
          "output_type": "stream",
          "name": "stdout",
          "text": [
            "[1, 4, 7]\n",
            "[2, 5, 8]\n",
            "[3, 6, 9]\n"
          ]
        }
      ]
    },
    {
      "cell_type": "markdown",
      "metadata": {
        "id": "ICEYGcP0z9Kc"
      },
      "source": [
        "#A method to show the matrix on screen as a matrix."
      ]
    },
    {
      "cell_type": "code",
      "metadata": {
        "colab": {
          "base_uri": "https://localhost:8080/"
        },
        "id": "jxWyWp-HsSAs",
        "outputId": "c4bb829b-3aab-4a53-d80c-22b3bdc945b0"
      },
      "source": [
        "A = [[1,2,3,4,5],[6,7,8,9,10],[11,12,13,14,15]]\n",
        "mtx = Matrix(A)\n",
        "\n",
        "indexes = [1,3]\n",
        "\n",
        "S = mtx.get_submatrix(indexes)\n",
        "S.print_matrix()"
      ],
      "execution_count": null,
      "outputs": [
        {
          "output_type": "stream",
          "name": "stdout",
          "text": [
            "0 [2, 3, 4]\n",
            "1 [7, 8, 9]\n",
            "2 [12, 13, 14]\n"
          ]
        }
      ]
    }
  ]
}